{
  "nbformat": 4,
  "nbformat_minor": 0,
  "metadata": {
    "colab": {
      "name": "CVProject1(1.2).ipynb",
      "provenance": [],
      "collapsed_sections": [],
      "authorship_tag": "ABX9TyMqOaKk19G9NtEQnUo3vYtx",
      "include_colab_link": true
    },
    "kernelspec": {
      "name": "python3",
      "display_name": "Python 3"
    },
    "language_info": {
      "name": "python"
    }
  },
  "cells": [
    {
      "cell_type": "markdown",
      "metadata": {
        "id": "view-in-github",
        "colab_type": "text"
      },
      "source": [
        "<a href=\"https://colab.research.google.com/github/NishiB7/ML_DL_NN/blob/main/CVProject1(1_2).ipynb\" target=\"_parent\"><img src=\"https://colab.research.google.com/assets/colab-badge.svg\" alt=\"Open In Colab\"/></a>"
      ]
    },
    {
      "cell_type": "code",
      "metadata": {
        "id": "p0jbQb9K6VcQ"
      },
      "source": [
        "#ANN, CNN n SVM implementation, image classification from cifar10 dataset"
      ],
      "execution_count": 1,
      "outputs": []
    },
    {
      "cell_type": "code",
      "metadata": {
        "colab": {
          "base_uri": "https://localhost:8080/"
        },
        "id": "vDturShBsFNV",
        "outputId": "290a04e2-614c-43c9-82ae-41ef681726c2"
      },
      "source": [
        "pip install -q -U tensorflow_addons"
      ],
      "execution_count": 2,
      "outputs": [
        {
          "output_type": "stream",
          "name": "stdout",
          "text": [
            "\u001b[?25l\r\u001b[K     |▎                               | 10 kB 20.2 MB/s eta 0:00:01\r\u001b[K     |▋                               | 20 kB 25.7 MB/s eta 0:00:01\r\u001b[K     |▉                               | 30 kB 12.1 MB/s eta 0:00:01\r\u001b[K     |█▏                              | 40 kB 9.3 MB/s eta 0:00:01\r\u001b[K     |█▌                              | 51 kB 5.2 MB/s eta 0:00:01\r\u001b[K     |█▊                              | 61 kB 5.8 MB/s eta 0:00:01\r\u001b[K     |██                              | 71 kB 5.5 MB/s eta 0:00:01\r\u001b[K     |██▍                             | 81 kB 6.1 MB/s eta 0:00:01\r\u001b[K     |██▋                             | 92 kB 4.7 MB/s eta 0:00:01\r\u001b[K     |███                             | 102 kB 5.1 MB/s eta 0:00:01\r\u001b[K     |███▎                            | 112 kB 5.1 MB/s eta 0:00:01\r\u001b[K     |███▌                            | 122 kB 5.1 MB/s eta 0:00:01\r\u001b[K     |███▉                            | 133 kB 5.1 MB/s eta 0:00:01\r\u001b[K     |████▏                           | 143 kB 5.1 MB/s eta 0:00:01\r\u001b[K     |████▍                           | 153 kB 5.1 MB/s eta 0:00:01\r\u001b[K     |████▊                           | 163 kB 5.1 MB/s eta 0:00:01\r\u001b[K     |█████                           | 174 kB 5.1 MB/s eta 0:00:01\r\u001b[K     |█████▎                          | 184 kB 5.1 MB/s eta 0:00:01\r\u001b[K     |█████▋                          | 194 kB 5.1 MB/s eta 0:00:01\r\u001b[K     |██████                          | 204 kB 5.1 MB/s eta 0:00:01\r\u001b[K     |██████▏                         | 215 kB 5.1 MB/s eta 0:00:01\r\u001b[K     |██████▌                         | 225 kB 5.1 MB/s eta 0:00:01\r\u001b[K     |██████▉                         | 235 kB 5.1 MB/s eta 0:00:01\r\u001b[K     |███████                         | 245 kB 5.1 MB/s eta 0:00:01\r\u001b[K     |███████▍                        | 256 kB 5.1 MB/s eta 0:00:01\r\u001b[K     |███████▊                        | 266 kB 5.1 MB/s eta 0:00:01\r\u001b[K     |████████                        | 276 kB 5.1 MB/s eta 0:00:01\r\u001b[K     |████████▎                       | 286 kB 5.1 MB/s eta 0:00:01\r\u001b[K     |████████▋                       | 296 kB 5.1 MB/s eta 0:00:01\r\u001b[K     |████████▉                       | 307 kB 5.1 MB/s eta 0:00:01\r\u001b[K     |█████████▏                      | 317 kB 5.1 MB/s eta 0:00:01\r\u001b[K     |█████████▌                      | 327 kB 5.1 MB/s eta 0:00:01\r\u001b[K     |█████████▊                      | 337 kB 5.1 MB/s eta 0:00:01\r\u001b[K     |██████████                      | 348 kB 5.1 MB/s eta 0:00:01\r\u001b[K     |██████████▍                     | 358 kB 5.1 MB/s eta 0:00:01\r\u001b[K     |██████████▋                     | 368 kB 5.1 MB/s eta 0:00:01\r\u001b[K     |███████████                     | 378 kB 5.1 MB/s eta 0:00:01\r\u001b[K     |███████████▎                    | 389 kB 5.1 MB/s eta 0:00:01\r\u001b[K     |███████████▌                    | 399 kB 5.1 MB/s eta 0:00:01\r\u001b[K     |███████████▉                    | 409 kB 5.1 MB/s eta 0:00:01\r\u001b[K     |████████████▏                   | 419 kB 5.1 MB/s eta 0:00:01\r\u001b[K     |████████████▍                   | 430 kB 5.1 MB/s eta 0:00:01\r\u001b[K     |████████████▊                   | 440 kB 5.1 MB/s eta 0:00:01\r\u001b[K     |█████████████                   | 450 kB 5.1 MB/s eta 0:00:01\r\u001b[K     |█████████████▎                  | 460 kB 5.1 MB/s eta 0:00:01\r\u001b[K     |█████████████▋                  | 471 kB 5.1 MB/s eta 0:00:01\r\u001b[K     |██████████████                  | 481 kB 5.1 MB/s eta 0:00:01\r\u001b[K     |██████████████▏                 | 491 kB 5.1 MB/s eta 0:00:01\r\u001b[K     |██████████████▌                 | 501 kB 5.1 MB/s eta 0:00:01\r\u001b[K     |██████████████▉                 | 512 kB 5.1 MB/s eta 0:00:01\r\u001b[K     |███████████████                 | 522 kB 5.1 MB/s eta 0:00:01\r\u001b[K     |███████████████▍                | 532 kB 5.1 MB/s eta 0:00:01\r\u001b[K     |███████████████▊                | 542 kB 5.1 MB/s eta 0:00:01\r\u001b[K     |████████████████                | 552 kB 5.1 MB/s eta 0:00:01\r\u001b[K     |████████████████▎               | 563 kB 5.1 MB/s eta 0:00:01\r\u001b[K     |████████████████▋               | 573 kB 5.1 MB/s eta 0:00:01\r\u001b[K     |████████████████▉               | 583 kB 5.1 MB/s eta 0:00:01\r\u001b[K     |█████████████████▏              | 593 kB 5.1 MB/s eta 0:00:01\r\u001b[K     |█████████████████▌              | 604 kB 5.1 MB/s eta 0:00:01\r\u001b[K     |█████████████████▊              | 614 kB 5.1 MB/s eta 0:00:01\r\u001b[K     |██████████████████              | 624 kB 5.1 MB/s eta 0:00:01\r\u001b[K     |██████████████████▍             | 634 kB 5.1 MB/s eta 0:00:01\r\u001b[K     |██████████████████▋             | 645 kB 5.1 MB/s eta 0:00:01\r\u001b[K     |███████████████████             | 655 kB 5.1 MB/s eta 0:00:01\r\u001b[K     |███████████████████▎            | 665 kB 5.1 MB/s eta 0:00:01\r\u001b[K     |███████████████████▌            | 675 kB 5.1 MB/s eta 0:00:01\r\u001b[K     |███████████████████▉            | 686 kB 5.1 MB/s eta 0:00:01\r\u001b[K     |████████████████████▏           | 696 kB 5.1 MB/s eta 0:00:01\r\u001b[K     |████████████████████▍           | 706 kB 5.1 MB/s eta 0:00:01\r\u001b[K     |████████████████████▊           | 716 kB 5.1 MB/s eta 0:00:01\r\u001b[K     |█████████████████████           | 727 kB 5.1 MB/s eta 0:00:01\r\u001b[K     |█████████████████████▎          | 737 kB 5.1 MB/s eta 0:00:01\r\u001b[K     |█████████████████████▋          | 747 kB 5.1 MB/s eta 0:00:01\r\u001b[K     |██████████████████████          | 757 kB 5.1 MB/s eta 0:00:01\r\u001b[K     |██████████████████████▏         | 768 kB 5.1 MB/s eta 0:00:01\r\u001b[K     |██████████████████████▌         | 778 kB 5.1 MB/s eta 0:00:01\r\u001b[K     |██████████████████████▉         | 788 kB 5.1 MB/s eta 0:00:01\r\u001b[K     |███████████████████████         | 798 kB 5.1 MB/s eta 0:00:01\r\u001b[K     |███████████████████████▍        | 808 kB 5.1 MB/s eta 0:00:01\r\u001b[K     |███████████████████████▊        | 819 kB 5.1 MB/s eta 0:00:01\r\u001b[K     |████████████████████████        | 829 kB 5.1 MB/s eta 0:00:01\r\u001b[K     |████████████████████████▎       | 839 kB 5.1 MB/s eta 0:00:01\r\u001b[K     |████████████████████████▋       | 849 kB 5.1 MB/s eta 0:00:01\r\u001b[K     |████████████████████████▉       | 860 kB 5.1 MB/s eta 0:00:01\r\u001b[K     |█████████████████████████▏      | 870 kB 5.1 MB/s eta 0:00:01\r\u001b[K     |█████████████████████████▍      | 880 kB 5.1 MB/s eta 0:00:01\r\u001b[K     |█████████████████████████▊      | 890 kB 5.1 MB/s eta 0:00:01\r\u001b[K     |██████████████████████████      | 901 kB 5.1 MB/s eta 0:00:01\r\u001b[K     |██████████████████████████▎     | 911 kB 5.1 MB/s eta 0:00:01\r\u001b[K     |██████████████████████████▋     | 921 kB 5.1 MB/s eta 0:00:01\r\u001b[K     |███████████████████████████     | 931 kB 5.1 MB/s eta 0:00:01\r\u001b[K     |███████████████████████████▏    | 942 kB 5.1 MB/s eta 0:00:01\r\u001b[K     |███████████████████████████▌    | 952 kB 5.1 MB/s eta 0:00:01\r\u001b[K     |███████████████████████████▉    | 962 kB 5.1 MB/s eta 0:00:01\r\u001b[K     |████████████████████████████    | 972 kB 5.1 MB/s eta 0:00:01\r\u001b[K     |████████████████████████████▍   | 983 kB 5.1 MB/s eta 0:00:01\r\u001b[K     |████████████████████████████▊   | 993 kB 5.1 MB/s eta 0:00:01\r\u001b[K     |█████████████████████████████   | 1.0 MB 5.1 MB/s eta 0:00:01\r\u001b[K     |█████████████████████████████▎  | 1.0 MB 5.1 MB/s eta 0:00:01\r\u001b[K     |█████████████████████████████▋  | 1.0 MB 5.1 MB/s eta 0:00:01\r\u001b[K     |█████████████████████████████▉  | 1.0 MB 5.1 MB/s eta 0:00:01\r\u001b[K     |██████████████████████████████▏ | 1.0 MB 5.1 MB/s eta 0:00:01\r\u001b[K     |██████████████████████████████▌ | 1.1 MB 5.1 MB/s eta 0:00:01\r\u001b[K     |██████████████████████████████▊ | 1.1 MB 5.1 MB/s eta 0:00:01\r\u001b[K     |███████████████████████████████ | 1.1 MB 5.1 MB/s eta 0:00:01\r\u001b[K     |███████████████████████████████▍| 1.1 MB 5.1 MB/s eta 0:00:01\r\u001b[K     |███████████████████████████████▋| 1.1 MB 5.1 MB/s eta 0:00:01\r\u001b[K     |████████████████████████████████| 1.1 MB 5.1 MB/s eta 0:00:01\r\u001b[K     |████████████████████████████████| 1.1 MB 5.1 MB/s \n",
            "\u001b[?25h"
          ]
        }
      ]
    },
    {
      "cell_type": "code",
      "metadata": {
        "id": "yHaoy2jY6VU0"
      },
      "source": [
        "import tensorflow as tf\n",
        "from tensorflow.keras import datasets, layers, models\n",
        "import matplotlib.pyplot as plt\n",
        "import numpy as np\n",
        "from sklearn.metrics import confusion_matrix, classification_report\n",
        "import numpy as np\n",
        "from sklearn import metrics\n",
        "from sklearn.svm import SVC\n",
        "import tensorflow_addons as tfa\n",
        "import seaborn as sns"
      ],
      "execution_count": 29,
      "outputs": []
    },
    {
      "cell_type": "markdown",
      "metadata": {
        "id": "PzBZGFI7bTi4"
      },
      "source": [
        "DATA EXPLORATION"
      ]
    },
    {
      "cell_type": "code",
      "metadata": {
        "id": "h1ZN0fj16VPS"
      },
      "source": [
        "\n",
        "(Xx_train, Yy_train), (Xx_test, Yy_test) = datasets.cifar10.load_data()\n"
      ],
      "execution_count": 9,
      "outputs": []
    },
    {
      "cell_type": "code",
      "metadata": {
        "colab": {
          "base_uri": "https://localhost:8080/"
        },
        "id": "wkgZD5jBBMj2",
        "outputId": "aa603d38-2e92-4ecd-d192-963eca5b56a5"
      },
      "source": [
        "print(Xx_train.shape)\n",
        "print(Yy_train.shape)\n",
        "print(Xx_test.shape)\n",
        "print(Yy_test.shape)"
      ],
      "execution_count": 10,
      "outputs": [
        {
          "output_type": "stream",
          "name": "stdout",
          "text": [
            "(50000, 32, 32, 3)\n",
            "(50000, 1)\n",
            "(10000, 32, 32, 3)\n",
            "(10000, 1)\n"
          ]
        }
      ]
    },
    {
      "cell_type": "code",
      "metadata": {
        "id": "3WnfSpcX_jGV"
      },
      "source": [
        "# we crop the dataset to be used, n this operation itself reshapes y_train to 1D array coz we dont need 2D\n",
        "x_train=Xx_train[:10000]\n",
        "y_train=Yy_train[:10000]\n",
        "x_test=Xx_test[:500]\n",
        "y_test=Yy_test[:500]"
      ],
      "execution_count": 78,
      "outputs": []
    },
    {
      "cell_type": "code",
      "metadata": {
        "id": "psJTOcW26VJv",
        "colab": {
          "base_uri": "https://localhost:8080/"
        },
        "outputId": "b9a95915-937b-40e9-8d01-23bc279bef86"
      },
      "source": [
        "print(\"Yy_train.shape:\", Yy_train.shape)\n",
        "print(\"Xx_train.shape\", Xx_train.shape)\n",
        "print(\"Xx_test.shape\", Xx_test.shape)\n",
        "print(\"Yy_test.shape\", Yy_test.shape)\n",
        "print(\"y_train.shape\", y_train.shape)\n",
        "print(\"x_train.shape\", x_train.shape)\n",
        "print(\"x_test.shape\", x_test.shape)\n",
        "print(\"y_test.shape\", y_test.shape)"
      ],
      "execution_count": 48,
      "outputs": [
        {
          "output_type": "stream",
          "name": "stdout",
          "text": [
            "Yy_train.shape: (50000, 1)\n",
            "Xx_train.shape (50000, 32, 32, 3)\n",
            "Xx_test.shape (10000, 32, 32, 3)\n",
            "Yy_test.shape (10000, 1)\n",
            "y_train.shape (10000,)\n",
            "x_train.shape (10000, 32, 32, 3)\n",
            "x_test.shape (500, 32, 32, 3)\n",
            "y_test.shape (500,)\n"
          ]
        }
      ]
    },
    {
      "cell_type": "code",
      "metadata": {
        "id": "fzn6np_i6U_N",
        "colab": {
          "base_uri": "https://localhost:8080/"
        },
        "outputId": "11af88db-8032-4d5e-8dd3-7506f5486088"
      },
      "source": [
        "#finding out the unique values stored in y_train\n",
        "unique_y_train=list(set(y_train))\n",
        "print(unique_y_train)"
      ],
      "execution_count": 72,
      "outputs": [
        {
          "output_type": "stream",
          "name": "stdout",
          "text": [
            "[0, 1, 2, 3, 4, 5, 6, 7, 8, 9]\n"
          ]
        }
      ]
    },
    {
      "cell_type": "code",
      "metadata": {
        "id": "ODTYq5wOSeUJ"
      },
      "source": [
        "def plot_sample(x, y, index):\n",
        "    plt.figure(figsize=(15,2))\n",
        "    plt.imshow(x[index])\n",
        "    plt.xlabel(k)"
      ],
      "execution_count": 67,
      "outputs": []
    },
    {
      "cell_type": "code",
      "metadata": {
        "colab": {
          "base_uri": "https://localhost:8080/",
          "height": 1000
        },
        "id": "ap58uZ2xSH2i",
        "outputId": "a641bf59-19f1-457a-caa3-ad1e4dbb7382"
      },
      "source": [
        "#finding out the labels to assign to the values of y_train\n",
        "import array\n",
        "Y=[0,0,0,0,0,0,0,0,0,0]\n",
        "p=array.array(\"i\", y_train)\n",
        "for k in unique_y_train:\n",
        "    Y[k]= p.index(k)\n",
        "    print(Y[k])\n",
        "    plot_sample(x_train, y_train, Y[k])"
      ],
      "execution_count": 73,
      "outputs": [
        {
          "output_type": "stream",
          "name": "stdout",
          "text": [
            "29\n",
            "4\n",
            "6\n",
            "9\n",
            "3\n",
            "27\n",
            "0\n",
            "7\n",
            "8\n",
            "1\n"
          ]
        },
        {
          "output_type": "display_data",
          "data": {
            "image/png": "[encoded data removed]",
            "text/plain": [
              "<Figure size 1080x144 with 1 Axes>"
            ]
          },
          "metadata": {
            "needs_background": "light"
          }
        },
        {
          "output_type": "display_data",
          "data": {
            "image/png": "[encoded data removed]",
            "text/plain": [
              "<Figure size 1080x144 with 1 Axes>"
            ]
          },
          "metadata": {
            "needs_background": "light"
          }
        },
        {
          "output_type": "display_data",
          "data": {
            "image/png": "[encoded data removed]",
            "text/plain": [
              "<Figure size 1080x144 with 1 Axes>"
            ]
          },
          "metadata": {
            "needs_background": "light"
          }
        },
        {
          "output_type": "display_data",
          "data": {
            "image/png": "[encoded data removed]",
            "text/plain": [
              "<Figure size 1080x144 with 1 Axes>"
            ]
          },
          "metadata": {
            "needs_background": "light"
          }
        },
        {
          "output_type": "display_data",
          "data": {
            "image/png": "[encoded data removed]",
            "text/plain": [
              "<Figure size 1080x144 with 1 Axes>"
            ]
          },
          "metadata": {
            "needs_background": "light"
          }
        },
        {
          "output_type": "display_data",
          "data": {
            "image/png": "[encoded data removed]",
            "text/plain": [
              "<Figure size 1080x144 with 1 Axes>"
            ]
          },
          "metadata": {
            "needs_background": "light"
          }
        },
        {
          "output_type": "display_data",
          "data": {
            "image/png": "[encoded data removed]",
            "text/plain": [
              "<Figure size 1080x144 with 1 Axes>"
            ]
          },
          "metadata": {
            "needs_background": "light"
          }
        },
        {
          "output_type": "display_data",
          "data": {
            "image/png": "[encoded data removed]",
            "text/plain": [
              "<Figure size 1080x144 with 1 Axes>"
            ]
          },
          "metadata": {
            "needs_background": "light"
          }
        },
        {
          "output_type": "display_data",
          "data": {
            "image/png": "[encoded data removed]",
            "text/plain": [
              "<Figure size 1080x144 with 1 Axes>"
            ]
          },
          "metadata": {
            "needs_background": "light"
          }
        },
        {
          "output_type": "display_data",
          "data": {
            "image/png": "[encoded data removed]",
            "text/plain": [
              "<Figure size 1080x144 with 1 Axes>"
            ]
          },
          "metadata": {
            "needs_background": "light"
          }
        }
      ]
    },
    {
      "cell_type": "code",
      "metadata": {
        "id": "ZA86z771U5Au"
      },
      "source": [
        ""
      ],
      "execution_count": null,
      "outputs": []
    },
    {
      "cell_type": "code",
      "metadata": {
        "id": "VHqEId-Y6Uyp"
      },
      "source": [
        "#we create this list to get the label of the image \n",
        "classes= [\"airplane\", \"automobile\", \"bird\", \"cat\", \"deer\", \"dog\", \"frog\", \"horse\", \"ship\", \"truck\"]\n"
      ],
      "execution_count": 74,
      "outputs": []
    },
    {
      "cell_type": "code",
      "metadata": {
        "id": "VS6ZOb7R6UtB"
      },
      "source": [
        "def plot_sample(x, y, index):\n",
        "    plt.figure(figsize=(15,2))\n",
        "    plt.imshow(x[index])\n",
        "    plt.xlabel(classes[y[index]])\n"
      ],
      "execution_count": 17,
      "outputs": []
    },
    {
      "cell_type": "code",
      "metadata": {
        "id": "-s0b8fA-6UnI",
        "colab": {
          "base_uri": "https://localhost:8080/",
          "height": 190
        },
        "outputId": "65ff040e-f9aa-4302-ab60-1a36a60c5518"
      },
      "source": [
        "plot_sample(x_train, y_train, 29)\n",
        "print(y_train[29])"
      ],
      "execution_count": 70,
      "outputs": [
        {
          "output_type": "stream",
          "name": "stdout",
          "text": [
            "0\n"
          ]
        },
        {
          "output_type": "display_data",
          "data": {
            "image/png": "[encoded data removed]",
            "text/plain": [
              "<Figure size 1080x144 with 1 Axes>"
            ]
          },
          "metadata": {
            "needs_background": "light"
          }
        }
      ]
    },
    {
      "cell_type": "code",
      "metadata": {
        "id": "KP59hj_66Ugu"
      },
      "source": [
        "#NORMALIZE the data\n",
        "x_train= x_train/255\n",
        "x_test= x_test/255"
      ],
      "execution_count": 20,
      "outputs": []
    },
    {
      "cell_type": "code",
      "metadata": {
        "id": "BaXgQxEd6Ubg"
      },
      "source": [
        ""
      ],
      "execution_count": null,
      "outputs": []
    },
    {
      "cell_type": "markdown",
      "metadata": {
        "id": "8C5T-eOCrl6t"
      },
      "source": [
        "Simple artificial NN implementation"
      ]
    },
    {
      "cell_type": "code",
      "metadata": {
        "id": "MRm74yJt6UPK",
        "colab": {
          "base_uri": "https://localhost:8080/"
        },
        "outputId": "7a823c0a-a2f6-4571-fbbf-e896d46b3eb4"
      },
      "source": [
        "#simple artificial NN \n",
        "# to see how it performs and then we'll see \n",
        "ann = models.Sequential([layers.Flatten(input_shape=(32, 32, 3)),\n",
        "                         layers.Dense(3000, activation= 'relu'), \n",
        "                         layers.Dense(1000, activation='relu'),\n",
        "                         layers.Dense(10, activation='sigmoid')])\n",
        "ann.compile(optimizer='SGD', loss='sparse_categorical_crossentropy',\n",
        "            metrics=['accuracy'])\n",
        "ann.fit(x_train, y_train, epochs=10)\n",
        "# for y=[0000000100] (for y=8) means it is loss='categorical_crossentropy'\n",
        "# directly (for y=8) y=8 means it is loss='sparse_categorical_crossentropy'\n",
        "ann.evaluate(x_test, y_test)\n",
        "y_pred1= ann.predict(x_test)\n",
        "y_pred_classes1 = [np.argmax(element) for element in y_pred1]\n",
        "print(\"Classification Report: \\n\", classification_report (y_test, y_pred_classes1))\n",
        "acc1=metrics.accuracy_score(y_test, y_pred_classes1)\n",
        "print(\"Accuracy =\", 100*acc1)"
      ],
      "execution_count": 35,
      "outputs": [
        {
          "output_type": "stream",
          "name": "stdout",
          "text": [
            "Epoch 1/10\n",
            "313/313 [==============================] - 22s 68ms/step - loss: 2.0013 - accuracy: 0.2721\n",
            "Epoch 2/10\n",
            "313/313 [==============================] - 22s 69ms/step - loss: 1.8110 - accuracy: 0.3495\n",
            "Epoch 3/10\n",
            "313/313 [==============================] - 21s 69ms/step - loss: 1.7316 - accuracy: 0.3849\n",
            "Epoch 4/10\n",
            "313/313 [==============================] - 21s 68ms/step - loss: 1.6670 - accuracy: 0.4090\n",
            "Epoch 5/10\n",
            "313/313 [==============================] - 22s 69ms/step - loss: 1.6179 - accuracy: 0.4299\n",
            "Epoch 6/10\n",
            "313/313 [==============================] - 22s 69ms/step - loss: 1.5806 - accuracy: 0.4453\n",
            "Epoch 7/10\n",
            "313/313 [==============================] - 21s 68ms/step - loss: 1.5431 - accuracy: 0.4592\n",
            "Epoch 8/10\n",
            "313/313 [==============================] - 21s 69ms/step - loss: 1.5109 - accuracy: 0.4670\n",
            "Epoch 9/10\n",
            "313/313 [==============================] - 22s 69ms/step - loss: 1.4775 - accuracy: 0.4806\n",
            "Epoch 10/10\n",
            "313/313 [==============================] - 21s 69ms/step - loss: 1.4438 - accuracy: 0.4955\n",
            "16/16 [==============================] - 1s 28ms/step - loss: 1.6794 - accuracy: 0.4000\n",
            "Classification Report: \n",
            "               precision    recall  f1-score   support\n",
            "\n",
            "           0       0.71      0.18      0.28        57\n",
            "           1       0.60      0.44      0.51        41\n",
            "           2       0.25      0.37      0.30        51\n",
            "           3       0.33      0.33      0.33        49\n",
            "           4       0.12      0.10      0.11        40\n",
            "           5       0.45      0.10      0.17        48\n",
            "           6       0.35      0.72      0.47        54\n",
            "           7       0.44      0.32      0.37        47\n",
            "           8       0.47      0.81      0.59        57\n",
            "           9       0.62      0.50      0.55        56\n",
            "\n",
            "    accuracy                           0.40       500\n",
            "   macro avg       0.44      0.39      0.37       500\n",
            "weighted avg       0.44      0.40      0.38       500\n",
            "\n",
            "Accuracy = 40.0\n"
          ]
        }
      ]
    },
    {
      "cell_type": "code",
      "metadata": {
        "id": "xEGCmVqeuVMR"
      },
      "source": [
        ""
      ],
      "execution_count": null,
      "outputs": []
    },
    {
      "cell_type": "code",
      "metadata": {
        "id": "qGTmTv8Bsw6t",
        "colab": {
          "base_uri": "https://localhost:8080/",
          "height": 295
        },
        "outputId": "365d9ce3-508a-4bad-8f1a-0a275f1de209"
      },
      "source": [
        "import seaborn as sns\n",
        "\n",
        "#confusion matrix\n",
        "#from sklearn.metrics import confusion_matrix\n",
        "ax=plt.subplot()\n",
        "cm1= confusion_matrix(y_test, y_pred_classes1)\n",
        "sns.heatmap(cm1, annot=True, ax=ax);\n",
        "ax.set_xlabel('Predicted labels');\n",
        "ax.set_ylabel('True labels');\n",
        "ax.set_title('Confusion Matrix');\n"
      ],
      "execution_count": 36,
      "outputs": [
        {
          "output_type": "display_data",
          "data": {
            "image/png": "[encoded data removed]",
            "text/plain": [
              "<Figure size 432x288 with 2 Axes>"
            ]
          },
          "metadata": {
            "needs_background": "light"
          }
        }
      ]
    },
    {
      "cell_type": "code",
      "metadata": {
        "id": "O43B8xbzuVFy"
      },
      "source": [
        ""
      ],
      "execution_count": null,
      "outputs": []
    },
    {
      "cell_type": "code",
      "metadata": {
        "id": "FwbFqPkdsw0W",
        "colab": {
          "base_uri": "https://localhost:8080/"
        },
        "outputId": "853c6ae1-cae6-4d0e-d768-e4a70bdc7705"
      },
      "source": [
        "#printing the number of correct predictions in all the labels\n",
        "i=0\n",
        "while i<10:\n",
        "    print(cm1[i][i] )\n",
        "    i+=1"
      ],
      "execution_count": 75,
      "outputs": [
        {
          "output_type": "stream",
          "name": "stdout",
          "text": [
            "10\n",
            "18\n",
            "19\n",
            "16\n",
            "4\n",
            "5\n",
            "39\n",
            "15\n",
            "46\n",
            "28\n"
          ]
        }
      ]
    },
    {
      "cell_type": "markdown",
      "metadata": {
        "id": "X0DIU3Ix7EoA"
      },
      "source": [
        "CNN to improve performance"
      ]
    },
    {
      "cell_type": "code",
      "metadata": {
        "id": "PdDjQm-z6-g-",
        "colab": {
          "base_uri": "https://localhost:8080/"
        },
        "outputId": "fb158c99-03b9-4a25-c739-e81fbacab79e"
      },
      "source": [
        "cnn= models.Sequential([\n",
        "                        layers.Conv2D(filters=32, kernel_size=(3,3), activation='relu', input_shape=(32, 32, 3)),\n",
        "                        layers.MaxPooling2D((2,2)),\n",
        "                        layers.Conv2D(filters=32, kernel_size=(3,3), activation='relu', input_shape=(32, 32, 3)),\n",
        "                        layers.MaxPooling2D((2,2)),\n",
        "                        \n",
        "                        layers.Flatten(),\n",
        "                        layers.Dense(64, activation= 'relu'), \n",
        "                        layers.Dense(10, activation='softmax')\n",
        "                     ])\n",
        "cnn.compile(optimizer='adam', loss='sparse_categorical_crossentropy',\n",
        "            metrics=['accuracy'])\n",
        "\n",
        "cnn.fit(x_train, y_train, epochs=10)\n",
        "cnn.evaluate(x_test, y_test, 1)\n",
        "y_test=y_test.reshape(-1,)\n",
        "y_pred2=cnn.predict(x_test)\n",
        "np.argmax(y_pred2[0])\n",
        "y_pred_classes2= [np.argmax(element) for element in y_pred2]\n",
        "acc2=metrics.accuracy_score(y_test, y_pred_classes2)\n",
        "print(\"Accuracy \", 100*acc2)"
      ],
      "execution_count": 38,
      "outputs": [
        {
          "output_type": "stream",
          "name": "stdout",
          "text": [
            "Epoch 1/10\n",
            "313/313 [==============================] - 11s 33ms/step - loss: 1.8479 - accuracy: 0.3202\n",
            "Epoch 2/10\n",
            "313/313 [==============================] - 10s 33ms/step - loss: 1.4802 - accuracy: 0.4710\n",
            "Epoch 3/10\n",
            "313/313 [==============================] - 10s 32ms/step - loss: 1.3313 - accuracy: 0.5217\n",
            "Epoch 4/10\n",
            "313/313 [==============================] - 10s 32ms/step - loss: 1.2417 - accuracy: 0.5598\n",
            "Epoch 5/10\n",
            "313/313 [==============================] - 10s 33ms/step - loss: 1.1643 - accuracy: 0.5855\n",
            "Epoch 6/10\n",
            "313/313 [==============================] - 10s 32ms/step - loss: 1.0843 - accuracy: 0.6163\n",
            "Epoch 7/10\n",
            "313/313 [==============================] - 10s 32ms/step - loss: 1.0219 - accuracy: 0.6402\n",
            "Epoch 8/10\n",
            "313/313 [==============================] - 10s 32ms/step - loss: 0.9596 - accuracy: 0.6584\n",
            "Epoch 9/10\n",
            "313/313 [==============================] - 10s 32ms/step - loss: 0.9044 - accuracy: 0.6812\n",
            "Epoch 10/10\n",
            "313/313 [==============================] - 10s 32ms/step - loss: 0.8397 - accuracy: 0.7011\n",
            "500/500 [==============================] - 1s 2ms/step - loss: 1.2456 - accuracy: 0.5640\n",
            "Accuracy  56.39999999999999\n"
          ]
        }
      ]
    },
    {
      "cell_type": "code",
      "metadata": {
        "colab": {
          "base_uri": "https://localhost:8080/",
          "height": 295
        },
        "id": "k0QtstTkFITt",
        "outputId": "3d104427-70a2-4335-bac1-1e985b449cef"
      },
      "source": [
        "import seaborn as sns\n",
        "ax=plt.subplot()\n",
        "cm2= confusion_matrix(y_test, y_pred_classes2)\n",
        "sns.heatmap(cm2, annot=True, ax=ax);\n",
        "ax.set_xlabel('Predicted labels');\n",
        "ax.set_ylabel('True labels');\n",
        "ax.set_title('Confusion Matrix');\n"
      ],
      "execution_count": 76,
      "outputs": [
        {
          "output_type": "display_data",
          "data": {
            "image/png": "[encoded data removed]",
            "text/plain": [
              "<Figure size 432x288 with 2 Axes>"
            ]
          },
          "metadata": {
            "needs_background": "light"
          }
        }
      ]
    },
    {
      "cell_type": "code",
      "metadata": {
        "colab": {
          "base_uri": "https://localhost:8080/"
        },
        "id": "zzA0Ua7kMX69",
        "outputId": "d5448101-40ed-4fd0-9b3b-2b1bb7bbfab2"
      },
      "source": [
        "i=0\n",
        "sum1=0\n",
        "sum2=0\n",
        "while i<10:\n",
        "    print(cm1[i][i], \"  :  \", cm2[i][i] )\n",
        "    sum1+=cm1[i][i]\n",
        "    sum2+=cm2[i][i]\n",
        "    i+=1\n",
        "print(\"Total no of accurately predicted images by ann vs cnn= \", sum1, \" : \", sum2)\n",
        "print(\"Accuracy of ann vs cnn= \", 100*acc1, \" : \", 100*acc2)\n"
      ],
      "execution_count": 45,
      "outputs": [
        {
          "output_type": "stream",
          "name": "stdout",
          "text": [
            "10   :   33\n",
            "18   :   25\n",
            "19   :   16\n",
            "16   :   22\n",
            "4   :   12\n",
            "5   :   26\n",
            "39   :   32\n",
            "15   :   32\n",
            "46   :   41\n",
            "28   :   43\n",
            "Total no of accurately predicted images by ann vs cnn=  200  :  282\n",
            "Accuracy of ann vs cnn=  40.0  :  56.39999999999999\n"
          ]
        }
      ]
    },
    {
      "cell_type": "code",
      "metadata": {
        "id": "2yKX4N0jFGsl"
      },
      "source": [
        ""
      ],
      "execution_count": null,
      "outputs": []
    },
    {
      "cell_type": "code",
      "metadata": {
        "id": "Wvl3dl5EFGpO"
      },
      "source": [
        ""
      ],
      "execution_count": null,
      "outputs": []
    },
    {
      "cell_type": "code",
      "metadata": {
        "id": "YkIQAdCzFGky"
      },
      "source": [
        ""
      ],
      "execution_count": null,
      "outputs": []
    },
    {
      "cell_type": "markdown",
      "metadata": {
        "id": "6137IP9W8K9R"
      },
      "source": [
        "Variations in CNN\n"
      ]
    },
    {
      "cell_type": "code",
      "metadata": {
        "id": "7fq29AwIMX4E"
      },
      "source": [
        "krnl_size=[(3,3), (5,5), (7,7)]\n",
        "filtersize=['64','128','256']\n",
        "optimizer= ['adam', 'SGD', 'RMSprop', 'Adadelta', 'Adagrad' ]\n",
        "dilationrate=[(2,2)]\n",
        "#batch normalization\n",
        "groupsize=[1,2]\n",
        "#group normalization\n",
        "#l2 regularization"
      ],
      "execution_count": 79,
      "outputs": []
    },
    {
      "cell_type": "code",
      "metadata": {
        "id": "g0zcYdJMRrT1"
      },
      "source": [
        ""
      ],
      "execution_count": 101,
      "outputs": []
    },
    {
      "cell_type": "code",
      "metadata": {
        "colab": {
          "base_uri": "https://localhost:8080/"
        },
        "id": "e1zcFs8-MX08",
        "outputId": "d0494030-79e5-4d48-f6ba-de68544aa602"
      },
      "source": [
        "# 1] Different kernel sizes\n",
        "krnl_size=[(3,3), (5,5), (7,7)]\n",
        "c=0\n",
        "accur1=[]\n",
        "for i in krnl_size:\n",
        "        cnn= models.Sequential([\n",
        "                                layers.Conv2D(filters=32, kernel_size=i, activation='relu', input_shape=(32, 32, 3)),\n",
        "                                layers.MaxPooling2D((2,2)),\n",
        "                                layers.Conv2D(filters=32, kernel_size=i, activation='relu', input_shape=(32, 32, 3)),\n",
        "                                layers.MaxPooling2D((2,2)),\n",
        "                                \n",
        "                                layers.Flatten(),\n",
        "                                layers.Dense(64, activation= 'relu'), \n",
        "                                layers.Dense(10, activation='softmax')\n",
        "                            ])\n",
        "        cnn.compile(optimizer='adam', loss='sparse_categorical_crossentropy',\n",
        "                    metrics=['accuracy'])\n",
        "\n",
        "        cnn.fit(x_train, y_train, epochs=10)\n",
        "        cnn.evaluate(x_test, y_test, 1)\n",
        "        y_test=y_test.reshape(-1,)\n",
        "        y_pred=cnn.predict(x_test)\n",
        "        np.argmax(y_pred[0])\n",
        "        y_pred_classes= [np.argmax(element) for element in y_pred]\n",
        "        accur1.append(0)\n",
        "        acc1=metrics.accuracy_score(y_test, y_pred_classes)\n",
        "        accur1[c]=acc1*100\n",
        "        c+=1\n",
        "\n",
        "for j in range(c):\n",
        "\n",
        "        print(\"Accuracy when kernel size is \", krnl_size[j] , \"= \" , accur1[j])"
      ],
      "execution_count": 80,
      "outputs": [
        {
          "output_type": "stream",
          "name": "stdout",
          "text": [
            "Epoch 1/10\n",
            "313/313 [==============================] - 11s 34ms/step - loss: 3.1230 - accuracy: 0.1829\n",
            "Epoch 2/10\n",
            "313/313 [==============================] - 11s 35ms/step - loss: 1.8603 - accuracy: 0.3178\n",
            "Epoch 3/10\n",
            "313/313 [==============================] - 10s 32ms/step - loss: 1.6482 - accuracy: 0.3969\n",
            "Epoch 4/10\n",
            "313/313 [==============================] - 10s 32ms/step - loss: 1.4989 - accuracy: 0.4551\n",
            "Epoch 5/10\n",
            "313/313 [==============================] - 10s 32ms/step - loss: 1.3431 - accuracy: 0.5129\n",
            "Epoch 6/10\n",
            "313/313 [==============================] - 10s 32ms/step - loss: 1.2390 - accuracy: 0.5570\n",
            "Epoch 7/10\n",
            "313/313 [==============================] - 10s 32ms/step - loss: 1.1139 - accuracy: 0.6003\n",
            "Epoch 8/10\n",
            "313/313 [==============================] - 10s 32ms/step - loss: 0.9828 - accuracy: 0.6482\n",
            "Epoch 9/10\n",
            "313/313 [==============================] - 10s 32ms/step - loss: 0.8956 - accuracy: 0.6746\n",
            "Epoch 10/10\n",
            "313/313 [==============================] - 10s 32ms/step - loss: 0.8145 - accuracy: 0.7149\n",
            "500/500 [==============================] - 1s 2ms/step - loss: 1.9389 - accuracy: 0.4620\n",
            "Epoch 1/10\n",
            "313/313 [==============================] - 14s 43ms/step - loss: 3.4971 - accuracy: 0.1453\n",
            "Epoch 2/10\n",
            "313/313 [==============================] - 15s 46ms/step - loss: 2.0218 - accuracy: 0.2531\n",
            "Epoch 3/10\n",
            "313/313 [==============================] - 14s 46ms/step - loss: 1.8819 - accuracy: 0.3064\n",
            "Epoch 4/10\n",
            "313/313 [==============================] - 15s 47ms/step - loss: 1.7688 - accuracy: 0.3450\n",
            "Epoch 5/10\n",
            "313/313 [==============================] - 15s 47ms/step - loss: 1.6995 - accuracy: 0.3752\n",
            "Epoch 6/10\n",
            "313/313 [==============================] - 15s 47ms/step - loss: 1.6191 - accuracy: 0.4021\n",
            "Epoch 7/10\n",
            "313/313 [==============================] - 15s 47ms/step - loss: 1.5580 - accuracy: 0.4364\n",
            "Epoch 8/10\n",
            "313/313 [==============================] - 15s 47ms/step - loss: 1.4994 - accuracy: 0.4611\n",
            "Epoch 9/10\n",
            "313/313 [==============================] - 15s 46ms/step - loss: 1.4535 - accuracy: 0.4766\n",
            "Epoch 10/10\n",
            "313/313 [==============================] - 15s 47ms/step - loss: 1.3740 - accuracy: 0.4988\n",
            "500/500 [==============================] - 1s 2ms/step - loss: 1.7209 - accuracy: 0.4280\n",
            "Epoch 1/10\n",
            "313/313 [==============================] - 17s 52ms/step - loss: 3.6252 - accuracy: 0.1160\n",
            "Epoch 2/10\n",
            "313/313 [==============================] - 16s 52ms/step - loss: 2.2908 - accuracy: 0.1328\n",
            "Epoch 3/10\n",
            "313/313 [==============================] - 16s 52ms/step - loss: 2.2560 - accuracy: 0.1595\n",
            "Epoch 4/10\n",
            "313/313 [==============================] - 16s 52ms/step - loss: 2.2256 - accuracy: 0.1825\n",
            "Epoch 5/10\n",
            "313/313 [==============================] - 17s 53ms/step - loss: 2.2096 - accuracy: 0.1907\n",
            "Epoch 6/10\n",
            "313/313 [==============================] - 16s 52ms/step - loss: 2.1291 - accuracy: 0.2253\n",
            "Epoch 7/10\n",
            "313/313 [==============================] - 16s 52ms/step - loss: 2.1309 - accuracy: 0.2168\n",
            "Epoch 8/10\n",
            "313/313 [==============================] - 15s 47ms/step - loss: 2.0251 - accuracy: 0.2709\n",
            "Epoch 9/10\n",
            "313/313 [==============================] - 15s 47ms/step - loss: 1.9655 - accuracy: 0.2953\n",
            "Epoch 10/10\n",
            "313/313 [==============================] - 15s 47ms/step - loss: 1.9278 - accuracy: 0.3029\n",
            "500/500 [==============================] - 1s 2ms/step - loss: 1.9990 - accuracy: 0.2820\n",
            "Accuracy when kernel size is  (3, 3) =  46.2\n",
            "Accuracy when kernel size is  (5, 5) =  42.8\n",
            "Accuracy when kernel size is  (7, 7) =  28.199999999999996\n"
          ]
        }
      ]
    },
    {
      "cell_type": "code",
      "metadata": {
        "colab": {
          "base_uri": "https://localhost:8080/"
        },
        "id": "LOBl8PBvRl8t",
        "outputId": "dc4b64fb-16a7-4a65-bd4b-61ed76051d6f"
      },
      "source": [
        ""
      ],
      "execution_count": 103,
      "outputs": [
        {
          "output_type": "execute_result",
          "data": {
            "text/plain": [
              "3"
            ]
          },
          "metadata": {},
          "execution_count": 103
        }
      ]
    },
    {
      "cell_type": "code",
      "metadata": {
        "id": "qi8Gkj6BMXxe"
      },
      "source": [
        " "
      ],
      "execution_count": null,
      "outputs": []
    },
    {
      "cell_type": "code",
      "metadata": {
        "id": "G10rU4BnMXus"
      },
      "source": [
        "# 2] different filters\n",
        "filtersize=[32,64,128,256]\n",
        "#\n",
        "c=0\n",
        "accur2=[]\n",
        "for i in filtersize:\n",
        "        cnn= models.Sequential([\n",
        "                                layers.Conv2D(filters=i, kernel_size=(3,3), activation='relu', input_shape=(32, 32, 3)),\n",
        "                                layers.MaxPooling2D((2,2)),\n",
        "                                layers.Conv2D(filters=i, kernel_size=(3,3), activation='relu', input_shape=(32, 32, 3)),\n",
        "                                layers.MaxPooling2D((2,2)),\n",
        "                                \n",
        "                                layers.Flatten(),\n",
        "                                layers.Dense(64, activation= 'relu'), \n",
        "                                layers.Dense(10, activation='softmax')\n",
        "                            ])\n",
        "        cnn.compile(optimizer='adam', loss='sparse_categorical_crossentropy',\n",
        "                    metrics=['accuracy'])\n",
        "\n",
        "        cnn.fit(x_train, y_train, epochs=10)\n",
        "        cnn.evaluate(x_test, y_test, 1)\n",
        "        y_test=y_test.reshape(-1,)\n",
        "        y_pred=cnn.predict(x_test)\n",
        "        np.argmax(y_pred[0])\n",
        "        y_pred_classes= [np.argmax(element) for element in y_pred]\n",
        "        accur2.append(0)\n",
        "        acc2=metrics.accuracy_score(y_test, y_pred_classes)\n",
        "        accur2[c]=acc2*100\n",
        "        c+=1\n",
        "\n",
        "# different filters\n",
        "for j in range(c):\n",
        "\n",
        "        print(\"Accuracy when filter size is \", filtersize[j] , \"= \" , accur2[j])       "
      ],
      "execution_count": null,
      "outputs": []
    },
    {
      "cell_type": "code",
      "metadata": {
        "id": "lOZzUo1oMXrU"
      },
      "source": [
        ""
      ],
      "execution_count": null,
      "outputs": []
    },
    {
      "cell_type": "code",
      "metadata": {
        "colab": {
          "base_uri": "https://localhost:8080/"
        },
        "id": "9jZidNAX1eex",
        "outputId": "38df6b1d-242d-403a-a949-72a7139943e0"
      },
      "source": [
        ""
      ],
      "execution_count": 39,
      "outputs": [
        {
          "output_type": "stream",
          "name": "stdout",
          "text": [
            "SGD\n"
          ]
        }
      ]
    },
    {
      "cell_type": "code",
      "metadata": {
        "id": "yQCEGjAx1EPx"
      },
      "source": [
        "# different optimizers\n",
        "\n",
        "optmzr= ['adam', 'SGD', 'RMSprop', 'Adadelta', 'Adagrad' ]\n",
        "c=0\n",
        "accur4=[]\n",
        "for i in range(len(optmzr)):\n",
        "        cnn= models.Sequential([\n",
        "                                layers.Conv2D(filters=32, kernel_size=(3,3), activation='relu', input_shape=(32, 32, 3)),\n",
        "                                layers.MaxPooling2D((2,2)),\n",
        "                                layers.Conv2D(filters=32, kernel_size=(3,3), activation='relu', input_shape=(32, 32, 3)),\n",
        "                                layers.MaxPooling2D((2,2)),\n",
        "                                layers.Flatten(),\n",
        "                                layers.Dense(64, activation= 'relu'), \n",
        "                                layers.Dense(10, activation='softmax')\n",
        "                            ])\n",
        "        cnn.compile(optimizer=optmzr[i], loss='sparse_categorical_crossentropy',\n",
        "                    metrics=['accuracy'])\n",
        "\n",
        "        cnn.fit(x_train, y_train, epochs=10)\n",
        "        cnn.evaluate(x_test, y_test, 1)\n",
        "        y_test=y_test.reshape(-1,)\n",
        "        y_pred=cnn.predict(x_test)\n",
        "        np.argmax(y_pred[0])\n",
        "        y_pred_classes= [np.argmax(element) for element in y_pred]\n",
        "        accur4.append(0)\n",
        "        acc4=metrics.accuracy_score(y_test, y_pred_classes)\n",
        "        accur4[c]=acc4*100\n",
        "        c+=1\n",
        "for j in range(c):\n",
        "\n",
        "        print(\"Accuracy when optimizer is \", optmzr[j] , \"= \" , accur4[j])"
      ],
      "execution_count": null,
      "outputs": []
    },
    {
      "cell_type": "code",
      "metadata": {
        "id": "lUSE31pv2dSU"
      },
      "source": [
        ""
      ],
      "execution_count": null,
      "outputs": []
    },
    {
      "cell_type": "code",
      "metadata": {
        "id": "yEa_1cTj1EMG"
      },
      "source": [
        "#for diff dilation rate\n",
        "dilationrate=[(1,1), (2,2)]\n",
        "c=0\n",
        "accur5=[]\n",
        "for i in dilationrate:\n",
        "        cnn= models.Sequential([\n",
        "                                layers.Conv2D(filters=32, kernel_size=(3,3), activation='relu', input_shape=(32, 32, 3), dilation_rate=i),\n",
        "                                layers.MaxPooling2D((2,2)),\n",
        "                                layers.Conv2D(filters=32, kernel_size=(3,3), activation='relu', input_shape=(32, 32, 3), dilation_rate=i),\n",
        "                                layers.MaxPooling2D((2,2)),\n",
        "                                layers.Flatten(),\n",
        "                                layers.Dense(64, activation= 'relu'), \n",
        "                                layers.Dense(10, activation='softmax')\n",
        "                            ])\n",
        "        cnn.compile(optimizer='adam', loss='sparse_categorical_crossentropy',\n",
        "                    metrics=['accuracy'])\n",
        "\n",
        "        cnn.fit(x_train, y_train, epochs=10)\n",
        "        cnn.evaluate(x_test, y_test, 1)\n",
        "        y_test=y_test.reshape(-1,)\n",
        "        y_pred=cnn.predict(x_test)\n",
        "        np.argmax(y_pred[0])\n",
        "        y_pred_classes= [np.argmax(element) for element in y_pred]\n",
        "        accur5.append(0)\n",
        "        acc5=metrics.accuracy_score(y_test, y_pred_classes)\n",
        "        accur5[c]=acc5*100\n",
        "        c+=1\n",
        "\n",
        "for j in range(c):\n",
        "\n",
        "        print(\"Accuracy when dilation rate is \", dilationrate[j] , \"= \" , accur5[j])"
      ],
      "execution_count": null,
      "outputs": []
    },
    {
      "cell_type": "code",
      "metadata": {
        "id": "lYakql271EHw"
      },
      "source": [
        ""
      ],
      "execution_count": null,
      "outputs": []
    },
    {
      "cell_type": "code",
      "metadata": {
        "id": "VU6aR7i95SEZ"
      },
      "source": [
        "# different grouping\n",
        "groupby= [1, 2]\n",
        "c=0\n",
        "accur6=[]\n",
        "for i in groupby:\n",
        "        cnn= models.Sequential([\n",
        "                                layers.Conv2D(filters=32, kernel_size=(3,3), activation='relu', input_shape=(32, 32, 3), groups=i),\n",
        "                                layers.MaxPooling2D((2,2)),\n",
        "                                layers.Conv2D(filters=32, kernel_size=(3,3), activation='relu', input_shape=(32, 32, 3), groups=i),\n",
        "                                layers.MaxPooling2D((2,2)),\n",
        "                                layers.Flatten(),\n",
        "                                layers.Dense(64, activation= 'relu'), \n",
        "                                layers.Dense(10, activation='softmax')\n",
        "                            ])\n",
        "        cnn.compile(optimizer='adam', loss='sparse_categorical_crossentropy',\n",
        "                    metrics=['accuracy'])\n",
        "\n",
        "        cnn.fit(x_train, y_train, epochs=10)\n",
        "        cnn.evaluate(x_test, y_test, 1)\n",
        "        y_test=y_test.reshape(-1,)\n",
        "        y_pred=cnn.predict(x_test)\n",
        "        np.argmax(y_pred[0])\n",
        "        y_pred_classes= [np.argmax(element) for element in y_pred]\n",
        "        accur6.append(0)\n",
        "        acc6=metrics.accuracy_score(y_test, y_pred_classes)\n",
        "        accur6[c]=acc6*100\n",
        "        c+=1\n"
      ],
      "execution_count": null,
      "outputs": []
    },
    {
      "cell_type": "code",
      "metadata": {
        "id": "-RbK36iY1EBV"
      },
      "source": [
        ""
      ],
      "execution_count": null,
      "outputs": []
    },
    {
      "cell_type": "code",
      "metadata": {
        "id": "_z0xBiBLb40U"
      },
      "source": [
        "        "
      ],
      "execution_count": null,
      "outputs": []
    },
    {
      "cell_type": "code",
      "metadata": {
        "id": "IHz_h7UTMXoJ"
      },
      "source": [
        "        #batchnorm after each layer        \n",
        "        c=0\n",
        "        accur3=[]\n",
        "        \n",
        "        cnn= models.Sequential([\n",
        "                                layers.Conv2D(filters=32, kernel_size=(3,3), activation='relu', input_shape=(32, 32, 3)),\n",
        "                                layers.BatchNormalization(),\n",
        "                                layers.MaxPooling2D((2,2)),\n",
        "                                layers.Conv2D(filters=32, kernel_size=(3,3), activation='relu', input_shape=(32, 32, 3)),\n",
        "                                layers.BatchNormalization(),\n",
        "                                layers.MaxPooling2D((2,2)),\n",
        "                                layers.Flatten(),\n",
        "                                layers.Dense(64, activation= 'relu'),\n",
        "                                layers.Dense(10, activation='softmax')\n",
        "                                \n",
        "                            ])\n",
        "       \n",
        "        cnn.compile(optimizer='adam', loss='sparse_categorical_crossentropy',\n",
        "                    metrics=['accuracy'])\n",
        "\n",
        "        cnn.fit(x_train, y_train, epochs=10)\n",
        "        cnn.evaluate(x_test, y_test, 1)\n",
        "        y_test=y_test.reshape(-1,)\n",
        "        y_pred=cnn.predict(x_test)\n",
        "        np.argmax(y_pred[0])\n",
        "        y_pred_classes= [np.argmax(element) for element in y_pred]\n",
        "        accur3.append(0)\n",
        "        acc3=metrics.accuracy_score(y_test, y_pred_classes)\n",
        "        accur3[c]=acc3*100\n",
        "        c+=1  \n",
        "\n",
        "        \n",
        "        #batchnorm at the last layer\n",
        "        \n",
        "        cnn= models.Sequential([\n",
        "                                layers.Conv2D(filters=32, kernel_size=(3,3), activation='relu', input_shape=(32, 32, 3)),\n",
        "                                layers.MaxPooling2D((2,2)),\n",
        "                                layers.Conv2D(filters=32, kernel_size=(3,3), activation='relu', input_shape=(32, 32, 3)),\n",
        "                                layers.MaxPooling2D((2,2)),\n",
        "                                layers.Flatten(),\n",
        "                                layers.Dense(64, activation= 'relu'), \n",
        "                                layers.BatchNormalization(),\n",
        "                                layers.Dense(10, activation='softmax')\n",
        "                                \n",
        "                            ])\n",
        "        cnn.compile(optimizer='adam', loss='sparse_categorical_crossentropy',\n",
        "                    metrics=['accuracy'])\n",
        "\n",
        "        cnn.fit(x_train, y_train, epochs=10)\n",
        "        cnn.evaluate(x_test, y_test, 1)\n",
        "        y_test=y_test.reshape(-1,)\n",
        "        y_pred=cnn.predict(x_test)\n",
        "        np.argmax(y_pred[0])\n",
        "        y_pred_classes= [np.argmax(element) for element in y_pred]\n",
        "        accur3.append(0)\n",
        "        acc3=metrics.accuracy_score(y_test, y_pred_classes)\n",
        "        accur3[c]=acc3*100\n",
        "        c+=1  \n",
        "        for j in range(c):\n",
        "\n",
        "              print(\"Accuracy = \" , accur3[j])"
      ],
      "execution_count": null,
      "outputs": []
    },
    {
      "cell_type": "code",
      "metadata": {
        "id": "kvEFjr5YMXkk"
      },
      "source": [
        ""
      ],
      "execution_count": null,
      "outputs": []
    },
    {
      "cell_type": "code",
      "metadata": {
        "id": "DwEcH_HedZdg"
      },
      "source": [
        "'''\n",
        "#batchnorm after each layer\n",
        "Accuracy after each maxpool layer= 10.4\n",
        "Accuracy after each conv2D layer= 10.0\n",
        "#batchnorm at the last layer     \n",
        "layers.Dense(10, activation='softmax')\n",
        "Accuracy =  7.6\n",
        "layers.MaxPooling2D((2,2)),\n",
        "Accuracy =  21.6\n",
        "layers.Flatten(),\n",
        "Accuracy =  28.4\n",
        "layers.Dense(64, activation= 'relu'),\n",
        "Accuracy =  34.0\n",
        "first convo2d layer\n",
        "Accuracy =  22.400000000000002\n",
        "2nd convo 2d layer\n",
        "Accuracy =  31.6'''"
      ],
      "execution_count": null,
      "outputs": []
    },
    {
      "cell_type": "code",
      "metadata": {
        "id": "uc73H3NxidG6"
      },
      "source": [
        "        #l2 regularization\n",
        "        c=0\n",
        "        accur7=[]\n",
        "        # without regularizer\n",
        "        cnn= models.Sequential([\n",
        "                                layers.Conv2D(filters=32, kernel_size=i, activation='relu', input_shape=(32, 32, 3)),\n",
        "                                layers.MaxPooling2D((2,2)),\n",
        "                                layers.Conv2D(filters=32, kernel_size=(3,3), activation='relu', input_shape=(32, 32, 3)),\n",
        "                                layers.MaxPooling2D((2,2)),\n",
        "                                layers.Flatten(),\n",
        "                                layers.Dense(64, activation= 'relu'), \n",
        "                                layers.Dense(10, activation='softmax')\n",
        "                            ])\n",
        "        cnn.compile(optimizer='adam', loss='sparse_categorical_crossentropy',\n",
        "                    metrics=['accuracy'])\n",
        "\n",
        "        cnn.fit(x_train, y_train, epochs=10)\n",
        "        cnn.evaluate(x_test, y_test, 1)\n",
        "        y_test=y_test.reshape(-1,)\n",
        "        y_pred=cnn.predict(x_test)\n",
        "        np.argmax(y_pred[0])\n",
        "        y_pred_classes= [np.argmax(element) for element in y_pred]\n",
        "        accur7.append(0)\n",
        "        acc7=metrics.accuracy_score(y_test, y_pred_classes)\n",
        "        accur7[c]=acc7*100\n",
        "        c+=1\n",
        "\n",
        "        #with l2 regularizer\n",
        "        cnn= models.Sequential([\n",
        "                                layers.Conv2D(filters=32, kernel_size=i, activation='relu', input_shape=(32, 32, 3)),\n",
        "                                layers.MaxPooling2D((2,2)),\n",
        "                                layers.Conv2D(filters=32, kernel_size=(3,3), activation='relu', input_shape=(32, 32, 3)),\n",
        "                                layers.MaxPooling2D((2,2)),\n",
        "                                layers.Flatten(),\n",
        "                                layers.Dense(64,kernel_regularizer='l2' , activation= 'relu'), \n",
        "                                layers.Dense(10, activation='softmax')\n",
        "                            ])\n",
        "        cnn.compile(optimizer='adam', loss='sparse_categorical_crossentropy',\n",
        "                    metrics=['accuracy'])\n",
        "\n",
        "        cnn.fit(x_train, y_train, epochs=10)\n",
        "        cnn.evaluate(x_test, y_test, 1)\n",
        "        y_test=y_test.reshape(-1,)\n",
        "        y_pred=cnn.predict(x_test)\n",
        "        np.argmax(y_pred[0])\n",
        "        y_pred_classes= [np.argmax(element) for element in y_pred]\n",
        "        accur7.append(0)\n",
        "        acc7=metrics.accuracy_score(y_test, y_pred_classes)\n",
        "        accur7[c]=acc7*100\n",
        "        c+=1\n",
        "\n",
        "        for j in range(c):\n",
        "\n",
        "              print(\"Accuracy is = \" , accur7[j])"
      ],
      "execution_count": null,
      "outputs": []
    },
    {
      "cell_type": "code",
      "metadata": {
        "id": "Zoh6Zt-JidDg"
      },
      "source": [
        "        #group normalization\n",
        "        c=0\n",
        "        accur8=[]\n",
        "        # without normalization\n",
        "        \n",
        "        cnn= models.Sequential([\n",
        "                                layers.Conv2D(filters=32, kernel_size=i, activation='relu', input_shape=(32, 32, 3)),\n",
        "                                layers.MaxPooling2D((2,2)),\n",
        "                                layers.Conv2D(filters=32, kernel_size=(3,3), activation='relu', input_shape=(32, 32, 3)),\n",
        "                                layers.MaxPooling2D((2,2)),\n",
        "                                layers.Flatten(),\n",
        "                                layers.Dense(64, activation= 'relu'), \n",
        "                                layers.Dense(10, activation='softmax')\n",
        "                            ])\n",
        "        cnn.compile(optimizer='adam', loss='sparse_categorical_crossentropy',\n",
        "                    metrics=['accuracy'])\n",
        "\n",
        "        cnn.fit(x_train, y_train, epochs=10)\n",
        "        cnn.evaluate(x_test, y_test, 1)\n",
        "        y_test=y_test.reshape(-1,)\n",
        "        y_pred=cnn.predict(x_test)\n",
        "        np.argmax(y_pred[0])\n",
        "        y_pred_classes= [np.argmax(element) for element in y_pred]\n",
        "        accur8.append(0)\n",
        "        acc8=metrics.accuracy_score(y_test, y_pred_classes)\n",
        "        accur8[c]=acc8*100\n",
        "        c+=1\n",
        "\n",
        "        \n",
        "        #batch normalization\n",
        "        cnn= models.Sequential([\n",
        "                                layers.Conv2D(filters=32, kernel_size=i, activation='relu', input_shape=(32, 32, 3)),\n",
        "                                layers.MaxPooling2D((2,2)),\n",
        "                                layers.Conv2D(filters=32, kernel_size=(3,3), activation='relu', input_shape=(32, 32, 3)),\n",
        "                                layers.MaxPooling2D((2,2)),\n",
        "                                layers.Flatten(),\n",
        "                                layers.Dense(64, activation= 'relu'), \n",
        "                                layers.BatchNormalization(),\n",
        "                                layers.Dense(10, activation='softmax')\n",
        "                            ])\n",
        "        cnn.compile(optimizer='adam', loss='sparse_categorical_crossentropy',\n",
        "                    metrics=['accuracy'])\n",
        "\n",
        "        cnn.fit(x_train, y_train, epochs=10)\n",
        "        cnn.evaluate(x_test, y_test, 1)\n",
        "        y_test=y_test.reshape(-1,)\n",
        "        y_pred=cnn.predict(x_test)\n",
        "        np.argmax(y_pred[0])\n",
        "        y_pred_classes= [np.argmax(element) for element in y_pred]\n",
        "        accur8.append(0)\n",
        "        acc8=metrics.accuracy_score(y_test, y_pred_classes)\n",
        "        accur8[c]=acc8*100\n",
        "        c+=1\n",
        "\n",
        "              \n",
        "        #group normalization\n",
        "        cnn= models.Sequential([\n",
        "                                layers.Conv2D(filters=32, kernel_size=i, activation='relu', input_shape=(32, 32, 3)),\n",
        "                                layers.MaxPooling2D((2,2)),\n",
        "                                layers.Conv2D(filters=32, kernel_size=(3,3), activation='relu', input_shape=(32, 32, 3)),\n",
        "                                layers.MaxPooling2D((2,2)),\n",
        "                                tfa.layers.GroupNormalization(groups=32, axis= 3),\n",
        "                                layers.Flatten(),\n",
        "                                layers.Dense(64, activation= 'relu'), \n",
        "                                layers.Dense(10, activation='softmax')\n",
        "                            ])\n",
        "        cnn.compile(optimizer='adam', loss='sparse_categorical_crossentropy',\n",
        "                    metrics=['accuracy'])\n",
        "\n",
        "        cnn.fit(x_train, y_train, epochs=10)\n",
        "        cnn.evaluate(x_test, y_test, 1)\n",
        "        y_test=y_test.reshape(-1,)\n",
        "        y_pred=cnn.predict(x_test)\n",
        "        np.argmax(y_pred[0])\n",
        "        y_pred_classes= [np.argmax(element) for element in y_pred]\n",
        "        accur8.append(0)\n",
        "        acc8=metrics.accuracy_score(y_test, y_pred_classes)\n",
        "        accur8[c]=acc8*100\n",
        "        c+=1\n",
        "\n",
        "        for j in range(c):\n",
        "\n",
        "                print(\"Accuracy is = \" , accur8[j])"
      ],
      "execution_count": null,
      "outputs": []
    },
    {
      "cell_type": "code",
      "metadata": {
        "id": "22H0kzBoidAX"
      },
      "source": [
        "'''\n",
        "tfa.layers.GroupNormalization(groups=4)\n",
        "Accuracy is =  27.200000000000003\n",
        "tfa.layers.GroupNormalization(groups=8),\n",
        "Accuracy is =  32.4\n",
        "tfa.layers.GroupNormalization(groups=16)\n",
        "Accuracy is =  32.800000000000004\n",
        "tfa.layers.GroupNormalization(groups=32),\n",
        "Accuracy is =  25.6\n",
        "\n",
        "'''"
      ],
      "execution_count": null,
      "outputs": []
    },
    {
      "cell_type": "code",
      "metadata": {
        "id": "OOcYmxDxic9h"
      },
      "source": [
        ""
      ],
      "execution_count": null,
      "outputs": []
    },
    {
      "cell_type": "code",
      "metadata": {
        "id": "rJ-3emRiMXe-"
      },
      "source": [
        ""
      ],
      "execution_count": null,
      "outputs": []
    },
    {
      "cell_type": "code",
      "metadata": {
        "id": "hDEcsY7CMXbF"
      },
      "source": [
        "#SVM"
      ],
      "execution_count": null,
      "outputs": []
    },
    {
      "cell_type": "code",
      "metadata": {
        "id": "0nAfCzz3GiC6"
      },
      "source": [
        "x_train2=x_train[:5000]\n",
        "x_train2=x_train2.reshape(5000, -1)\n",
        "x_test2=x_test.reshape(250, -1)\n",
        "y_train2=y_train[:5000]"
      ],
      "execution_count": 63,
      "outputs": []
    },
    {
      "cell_type": "code",
      "metadata": {
        "colab": {
          "base_uri": "https://localhost:8080/"
        },
        "id": "c5D-4qIUI2eP",
        "outputId": "610ef230-c182-49a5-bd02-f1533ac60c4b"
      },
      "source": [
        "print(x_train.shape)\n",
        "print(type(x_train))\n",
        "print(x_test.shape)\n",
        "print(type(x_test))\n",
        "print(x_train2.shape)\n",
        "print(type(x_train2))\n",
        "print(x_test2.shape)\n",
        "print(type(x_test2))\n",
        "print(y_train2.shape)\n",
        "print(type(y_train2))\n",
        "print(y_test.shape)\n",
        "print(type(y_test))\n",
        "\n",
        "\n"
      ],
      "execution_count": 64,
      "outputs": [
        {
          "output_type": "stream",
          "name": "stdout",
          "text": [
            "(10000, 32, 32, 3)\n",
            "<class 'numpy.ndarray'>\n",
            "(250, 32, 32, 3)\n",
            "<class 'numpy.ndarray'>\n",
            "(5000, 3072)\n",
            "<class 'numpy.ndarray'>\n",
            "(250, 3072)\n",
            "<class 'numpy.ndarray'>\n",
            "(5000,)\n",
            "<class 'numpy.ndarray'>\n",
            "(250,)\n",
            "<class 'numpy.ndarray'>\n"
          ]
        }
      ]
    },
    {
      "cell_type": "code",
      "metadata": {
        "id": "LID10BUm6-b2",
        "colab": {
          "base_uri": "https://localhost:8080/"
        },
        "outputId": "83bb18e8-0c93-45bb-d2dc-26d6f1b39829"
      },
      "source": [
        "clf = SVC(kernel='rbf',C=1000,gamma=0.001)\n",
        "clf = clf.fit(x_train2, y_train2)\n",
        "y_pred = clf.predict(x_test2)\n",
        "y_pred_classes= [np.argmax(element) for element in y_pred]\n",
        "acc2=metrics.accuracy_score(y_test, y_pred_classes)\n",
        "print(\"Accuracy \", 100*acc2)"
      ],
      "execution_count": 65,
      "outputs": [
        {
          "output_type": "stream",
          "name": "stdout",
          "text": [
            "Accuracy  10.0\n"
          ]
        }
      ]
    },
    {
      "cell_type": "code",
      "metadata": {
        "id": "88vrOwzI6-Ur"
      },
      "source": [
        ""
      ],
      "execution_count": null,
      "outputs": []
    },
    {
      "cell_type": "code",
      "metadata": {
        "id": "VxucDeVW6-Hm"
      },
      "source": [
        "cm2= confusion_matrix(y_test, y_pred_classes)\n",
        "\n",
        "while i<10:\n",
        "    print(cm[i][i], \"  :  \", cm2[i][i] )\n",
        "    i+=1\n"
      ],
      "execution_count": null,
      "outputs": []
    },
    {
      "cell_type": "code",
      "metadata": {
        "id": "Yxx5v-Av6-CU"
      },
      "source": [
        ""
      ],
      "execution_count": null,
      "outputs": []
    },
    {
      "cell_type": "code",
      "metadata": {
        "id": "o-M31A6eHwv3"
      },
      "source": [
        ""
      ],
      "execution_count": null,
      "outputs": []
    },
    {
      "cell_type": "code",
      "metadata": {
        "id": "GT7u4aScHws6"
      },
      "source": [
        ""
      ],
      "execution_count": null,
      "outputs": []
    },
    {
      "cell_type": "code",
      "metadata": {
        "id": "P83pDVNxHwqC"
      },
      "source": [
        ""
      ],
      "execution_count": null,
      "outputs": []
    },
    {
      "cell_type": "code",
      "metadata": {
        "id": "0LnYjrxcHwl4"
      },
      "source": [
        ""
      ],
      "execution_count": null,
      "outputs": []
    }
  ]
}